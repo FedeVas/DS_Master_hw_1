{
 "cells": [
  {
   "cell_type": "code",
   "execution_count": 30,
   "id": "aa1e549c-976a-4daa-9945-525615fea850",
   "metadata": {
    "tags": []
   },
   "outputs": [],
   "source": [
    "import numpy as np\n",
    "import pandas as pd"
   ]
  },
  {
   "cell_type": "markdown",
   "id": "2718ee51-b9e9-4ffb-a1b9-f941f71bf248",
   "metadata": {
    "tags": []
   },
   "source": [
    "## 1.1 Описание данных."
   ]
  },
  {
   "cell_type": "markdown",
   "id": "0c409bb6-8686-499a-a1c5-f3a6c5849764",
   "metadata": {},
   "source": [
    "TRAIN.CSV\n",
    "\n",
    "* row_id: (int64) ID код строки.\n",
    "* timestamp: (int64) время в миллисекундах между данным взаимодействием пользователя и первым событием завершения для этого пользователя.\n",
    "* user_id: (int32) ID код пользователя.\n",
    "* content_id: (int16) ID код контента, с которым взаимодействовал пользователь.\n",
    "* content_type_id: (int8) 0 — если событие представляет собой вопрос, который задается пользователю, 1 — если событие представляет собой просмотр пользователем лекции.\n",
    "* task_container_id: (int16) ID код пакета вопросов или лекций. Например, пользователь может увидеть три вопроса подряд перед тем, как увидеть объяснения к ним. Эти три вопроса будут иметь один и тот же task_container_id.\n",
    "* user_answer: (int8) ответ пользователя на вопрос, если он есть. Значение -1 означает, что пользователь не отвечал (для лекций).\n",
    "* answered_correctly: (int8) правильный ответ пользователя. Значение -1 означает, что это лекция, а не вопрос.\n",
    "* prior_question_elapsed_time: (float32) среднее время в миллисекундах, которое пользователю потребовалось для ответа на каждый вопрос в предыдущем пакете вопросов, исключая лекции между ними. Поле пусто для первого пакета вопросов или лекций у пользователя. Обратите внимание, что это среднее время решения вопроса в предыдущем пакете.\n",
    "* prior_question_had_explanation: (bool) показывалось ли пользователю объяснение и правильные ответы после предыдущего пакета вопросов, исключая лекции между ними. Значение одинаково для всех вопросов в пакете и пусто для первого пакета вопросов или лекций у пользователя. Обычно первые несколько вопросов являются частью диагностического теста для новичков, где пользователи не получают обратную связь.\n",
    "\n",
    "QUESTIONS.CSV: метаданные для вопросов, задаваемых пользователям\n",
    "\n",
    "* question_id: внешний ключ для столбца content_id в train/test, когда тип контента — это вопрос (content_type_id = 0).\n",
    "* bundle_id: код, обозначающий, какие вопросы были показаны вместе.\n",
    "* correct_answer: правильный ответ на вопрос. Можно сравнивать с ответами пользователей (user_answer) в train для проверки правильности ответа.\n",
    "* part: релевантный раздел теста TOEIC.\n",
    "* tags: один или несколько кодов-тегов для вопроса. Значение тегов не указано, но эти коды позволяют кластеризовать вопросы.\n",
    "\n",
    "LECTURES.CSV: метаданные для лекций, просматриваемых пользователями в процессе обучения\n",
    "\n",
    "* lecture_id: внешний ключ для столбца content_id в train/test, когда тип контента — это лекция (content_type_id = 1).\n",
    "* part: код категории верхнего уровня для лекции.\n",
    "* tag: один код-тег для лекции. Значение тегов не указано, но они могут быть использованы для кластеризации лекций.\n",
    "* type_of: краткое описание основной цели лекции.\n"
   ]
  },
  {
   "cell_type": "markdown",
   "id": "e202ab2d-a875-4a7c-a148-6d4ac7339ea7",
   "metadata": {},
   "source": [
    "### Загрузка данных"
   ]
  },
  {
   "cell_type": "markdown",
   "id": "d96731fa-c38d-4b60-a603-38535e1270a6",
   "metadata": {},
   "source": [
    "Данные можно скачать из https://www.kaggle.com/competitions/riiid-test-answer-prediction/data"
   ]
  },
  {
   "cell_type": "code",
   "execution_count": 2,
   "id": "c593e714-bea0-400a-99f7-b699ac7e7965",
   "metadata": {
    "tags": []
   },
   "outputs": [],
   "source": [
    "# Локальный путь до файлов\n",
    "paths = ['./train.csv', './lectures.csv', './questions.csv']"
   ]
  },
  {
   "cell_type": "code",
   "execution_count": 3,
   "id": "69f7d20a-591c-45ab-beb3-cd12249b9169",
   "metadata": {
    "tags": []
   },
   "outputs": [],
   "source": [
    "df_train = pd.read_csv(paths[0])\n",
    "df_lectures = pd.read_csv(paths[1])\n",
    "df_questions = pd.read_csv(paths[2])"
   ]
  },
  {
   "cell_type": "markdown",
   "id": "9b7270cd-4409-4a0a-8ae6-86f9cfc9f850",
   "metadata": {},
   "source": [
    "### \"Первый взгляд\" на данные"
   ]
  },
  {
   "cell_type": "code",
   "execution_count": 4,
   "id": "b4a350f4-7d53-4045-817d-0fab5d37f258",
   "metadata": {
    "tags": []
   },
   "outputs": [
    {
     "name": "stdout",
     "output_type": "stream",
     "text": [
      "Train Data Preview:\n",
      "   row_id  timestamp  user_id  content_id  content_type_id  task_container_id  \\\n",
      "0       0          0      115        5692                0                  1   \n",
      "1       1      56943      115        5716                0                  2   \n",
      "2       2     118363      115         128                0                  0   \n",
      "3       3     131167      115        7860                0                  3   \n",
      "4       4     137965      115        7922                0                  4   \n",
      "\n",
      "   user_answer  answered_correctly  prior_question_elapsed_time  \\\n",
      "0            3                   1                          NaN   \n",
      "1            2                   1                      37000.0   \n",
      "2            0                   1                      55000.0   \n",
      "3            0                   1                      19000.0   \n",
      "4            1                   1                      11000.0   \n",
      "\n",
      "  prior_question_had_explanation  \n",
      "0                            NaN  \n",
      "1                          False  \n",
      "2                          False  \n",
      "3                          False  \n",
      "4                          False  \n",
      "\n",
      "Lectures Data Preview:\n",
      "   lecture_id  tag  part           type_of\n",
      "0          89  159     5           concept\n",
      "1         100   70     1           concept\n",
      "2         185   45     6           concept\n",
      "3         192   79     5  solving question\n",
      "4         317  156     5  solving question\n",
      "\n",
      "Questions Data Preview:\n",
      "   question_id  bundle_id  correct_answer  part            tags\n",
      "0            0          0               0     1   51 131 162 38\n",
      "1            1          1               1     1       131 36 81\n",
      "2            2          2               0     1  131 101 162 92\n",
      "3            3          3               0     1  131 149 162 29\n",
      "4            4          4               3     1    131 5 162 38\n",
      "\n",
      "Train Data Info:\n",
      "<class 'pandas.core.frame.DataFrame'>\n",
      "RangeIndex: 101230332 entries, 0 to 101230331\n",
      "Data columns (total 10 columns):\n",
      " #   Column                          Dtype  \n",
      "---  ------                          -----  \n",
      " 0   row_id                          int64  \n",
      " 1   timestamp                       int64  \n",
      " 2   user_id                         int64  \n",
      " 3   content_id                      int64  \n",
      " 4   content_type_id                 int64  \n",
      " 5   task_container_id               int64  \n",
      " 6   user_answer                     int64  \n",
      " 7   answered_correctly              int64  \n",
      " 8   prior_question_elapsed_time     float64\n",
      " 9   prior_question_had_explanation  object \n",
      "dtypes: float64(1), int64(8), object(1)\n",
      "memory usage: 7.5+ GB\n",
      "None\n",
      "\n",
      "Lectures Data Info:\n",
      "<class 'pandas.core.frame.DataFrame'>\n",
      "RangeIndex: 418 entries, 0 to 417\n",
      "Data columns (total 4 columns):\n",
      " #   Column      Non-Null Count  Dtype \n",
      "---  ------      --------------  ----- \n",
      " 0   lecture_id  418 non-null    int64 \n",
      " 1   tag         418 non-null    int64 \n",
      " 2   part        418 non-null    int64 \n",
      " 3   type_of     418 non-null    object\n",
      "dtypes: int64(3), object(1)\n",
      "memory usage: 13.2+ KB\n",
      "None\n",
      "\n",
      "Questions Data Info:\n",
      "<class 'pandas.core.frame.DataFrame'>\n",
      "RangeIndex: 13523 entries, 0 to 13522\n",
      "Data columns (total 5 columns):\n",
      " #   Column          Non-Null Count  Dtype \n",
      "---  ------          --------------  ----- \n",
      " 0   question_id     13523 non-null  int64 \n",
      " 1   bundle_id       13523 non-null  int64 \n",
      " 2   correct_answer  13523 non-null  int64 \n",
      " 3   part            13523 non-null  int64 \n",
      " 4   tags            13522 non-null  object\n",
      "dtypes: int64(4), object(1)\n",
      "memory usage: 528.4+ KB\n",
      "None\n"
     ]
    }
   ],
   "source": [
    "print('Train Data Preview:')\n",
    "print(df_train.head())\n",
    "print('\\nLectures Data Preview:')\n",
    "print(df_lectures.head())\n",
    "print('\\nQuestions Data Preview:')\n",
    "print(df_questions.head())\n",
    "\n",
    "# Общая информация о каждом наборе данных\n",
    "print('\\nTrain Data Info:')\n",
    "print(df_train.info())\n",
    "\n",
    "print('\\nLectures Data Info:')\n",
    "print(df_lectures.info())\n",
    "\n",
    "print('\\nQuestions Data Info:')\n",
    "print(df_questions.info())"
   ]
  },
  {
   "cell_type": "code",
   "execution_count": 5,
   "id": "44ebca03-a19a-4f98-afd9-ff200fb901e0",
   "metadata": {
    "tags": []
   },
   "outputs": [
    {
     "name": "stdout",
     "output_type": "stream",
     "text": [
      "\n",
      "Пропущенные значений в Train Data:\n",
      "row_id                                  0\n",
      "timestamp                               0\n",
      "user_id                                 0\n",
      "content_id                              0\n",
      "content_type_id                         0\n",
      "task_container_id                       0\n",
      "user_answer                             0\n",
      "answered_correctly                      0\n",
      "prior_question_elapsed_time       2351538\n",
      "prior_question_had_explanation     392506\n",
      "dtype: int64\n",
      "\n",
      "Пропущенные значений в Lectures Data:\n",
      "lecture_id    0\n",
      "tag           0\n",
      "part          0\n",
      "type_of       0\n",
      "dtype: int64\n",
      "\n",
      "Пропущенные значений в Questions Data:\n",
      "question_id       0\n",
      "bundle_id         0\n",
      "correct_answer    0\n",
      "part              0\n",
      "tags              1\n",
      "dtype: int64\n"
     ]
    }
   ],
   "source": [
    "# Проверка на наличие пропущенных значений в каждом наборе данных\n",
    "print('\\nПропущенные значений в Train Data:')\n",
    "print(df_train.isnull().sum())\n",
    "\n",
    "print('\\nПропущенные значений в Lectures Data:')\n",
    "print(df_lectures.isnull().sum())\n",
    "\n",
    "print('\\nПропущенные значений в Questions Data:')\n",
    "print(df_questions.isnull().sum())"
   ]
  },
  {
   "cell_type": "code",
   "execution_count": 6,
   "id": "9cccfe2f-7da9-4ede-88d7-9a018b70f2d3",
   "metadata": {
    "tags": []
   },
   "outputs": [
    {
     "name": "stdout",
     "output_type": "stream",
     "text": [
      "\n",
      "Базовая статистика для Train Data:\n",
      "             row_id     timestamp       user_id    content_id  \\\n",
      "count  1.012303e+08  1.012303e+08  1.012303e+08  1.012303e+08   \n",
      "mean   5.061517e+07  7.703644e+09  1.076732e+09  5.219605e+03   \n",
      "std    2.922268e+07  1.159266e+10  6.197163e+08  3.866359e+03   \n",
      "min    0.000000e+00  0.000000e+00  1.150000e+02  0.000000e+00   \n",
      "25%    2.530758e+07  5.243436e+08  5.408116e+08  2.063000e+03   \n",
      "50%    5.061517e+07  2.674234e+09  1.071781e+09  5.026000e+03   \n",
      "75%    7.592275e+07  9.924551e+09  1.615742e+09  7.425000e+03   \n",
      "max    1.012303e+08  8.742577e+10  2.147483e+09  3.273600e+04   \n",
      "\n",
      "       content_type_id  task_container_id   user_answer  answered_correctly  \\\n",
      "count     1.012303e+08       1.012303e+08  1.012303e+08        1.012303e+08   \n",
      "mean      1.935222e-02       9.040624e+02  1.376123e+00        6.251644e-01   \n",
      "std       1.377596e-01       1.358302e+03  1.192896e+00        5.225307e-01   \n",
      "min       0.000000e+00       0.000000e+00 -1.000000e+00       -1.000000e+00   \n",
      "25%       0.000000e+00       1.040000e+02  0.000000e+00        0.000000e+00   \n",
      "50%       0.000000e+00       3.820000e+02  1.000000e+00        1.000000e+00   \n",
      "75%       0.000000e+00       1.094000e+03  3.000000e+00        1.000000e+00   \n",
      "max       1.000000e+00       9.999000e+03  3.000000e+00        1.000000e+00   \n",
      "\n",
      "       prior_question_elapsed_time  \n",
      "count                 9.887879e+07  \n",
      "mean                  2.542381e+04  \n",
      "std                   1.994815e+04  \n",
      "min                   0.000000e+00  \n",
      "25%                   1.600000e+04  \n",
      "50%                   2.100000e+04  \n",
      "75%                   2.966600e+04  \n",
      "max                   3.000000e+05  \n",
      "\n",
      "Базовая статистика для Lectures:\n",
      "         lecture_id         tag        part\n",
      "count    418.000000  418.000000  418.000000\n",
      "mean   16983.401914   94.480861    4.267943\n",
      "std     9426.164660   53.586487    1.872424\n",
      "min       89.000000    0.000000    1.000000\n",
      "25%     9026.250000   50.250000    2.000000\n",
      "50%    17161.500000   94.500000    5.000000\n",
      "75%    24906.250000  140.000000    6.000000\n",
      "max    32736.000000  187.000000    7.000000\n",
      "\n",
      "Базовая статистика для Questions Data:\n",
      "       question_id     bundle_id  correct_answer          part\n",
      "count  13523.00000  13523.000000    13523.000000  13523.000000\n",
      "mean    6761.00000   6760.510907        1.455298      4.264956\n",
      "std     3903.89818   3903.857783        1.149707      1.652553\n",
      "min        0.00000      0.000000        0.000000      1.000000\n",
      "25%     3380.50000   3379.500000        0.000000      3.000000\n",
      "50%     6761.00000   6761.000000        1.000000      5.000000\n",
      "75%    10141.50000  10140.000000        3.000000      5.000000\n",
      "max    13522.00000  13522.000000        3.000000      7.000000\n"
     ]
    }
   ],
   "source": [
    "# Базовая статистика для числовых данных в каждом наборе\n",
    "print('\\nБазовая статистика для Train Data:')\n",
    "print(df_train.describe())\n",
    "\n",
    "print('\\nБазовая статистика для Lectures:')\n",
    "print(df_lectures.describe())\n",
    "\n",
    "print('\\nБазовая статистика для Questions Data:')\n",
    "print(df_questions.describe())"
   ]
  },
  {
   "cell_type": "markdown",
   "id": "cef79d8b-39ce-4672-a082-35a5902b01bb",
   "metadata": {},
   "source": [
    "### Выводы по 1.1."
   ]
  },
  {
   "cell_type": "markdown",
   "id": "08009027-40c7-43ba-ae5f-ffe0293300a2",
   "metadata": {},
   "source": [
    "Все данные имеют соответствующий тип, здесь обработка не нужна.\n",
    "\n",
    "\n",
    "В Train Data есть значительные пропуски в столбцах prior_question_elapsed_time и prior_question_had_explanation, но в описании данных указано что пропуски это тоже информация (для первого пакета), поэтому эти пропуски не надо обрабатывать заполнением:\n",
    " * prior_question_elapsed_time: отсутствуют значения примерно в 2.35 млн строк.\n",
    " * prior_question_had_explanation: отсутствуют значения в около 392 тыс. строк.\n",
    "\n",
    "В Lectures Data пропусков нет.\n",
    "\n",
    "В Questions Data всего одно пропущенное значение в столбце tags."
   ]
  },
  {
   "cell_type": "markdown",
   "id": "745a3e37-ddd7-4810-a8ec-99c258b8bf57",
   "metadata": {},
   "source": [
    "## Обработка пропущенных значений"
   ]
  },
  {
   "cell_type": "markdown",
   "id": "cadb9e42-0a8a-40c9-b6ce-df817726bd13",
   "metadata": {},
   "source": [
    "В столбце tags в Questions Data можно попробовать заполнить отсутствующее значение пустым списком или специальным кодом."
   ]
  },
  {
   "cell_type": "code",
   "execution_count": 7,
   "id": "ef1af723-7060-43bc-b6bc-c3b4e6693229",
   "metadata": {
    "tags": []
   },
   "outputs": [],
   "source": [
    "# Обработка пропущенных значений в df_questions\n",
    "df_questions['tags'].fillna('unknown', inplace=True)"
   ]
  },
  {
   "cell_type": "code",
   "execution_count": 8,
   "id": "a21e1f89-2192-49af-b64b-c36c2bb85a5c",
   "metadata": {
    "tags": []
   },
   "outputs": [
    {
     "name": "stdout",
     "output_type": "stream",
     "text": [
      "\n",
      "Пропущенные значения в Questions Data после заполнения:\n",
      "question_id       0\n",
      "bundle_id         0\n",
      "correct_answer    0\n",
      "part              0\n",
      "tags              0\n",
      "dtype: int64\n"
     ]
    }
   ],
   "source": [
    "# Проверка после обработки пропусков\n",
    "print('\\nПропущенные значения в Questions Data после заполнения:')\n",
    "print(df_questions.isnull().sum())"
   ]
  },
  {
   "cell_type": "markdown",
   "id": "b9f34eb1-4433-4238-8e5a-90fb9ea30732",
   "metadata": {
    "tags": []
   },
   "source": [
    "## 1.2 Исследование признаков."
   ]
  },
  {
   "cell_type": "markdown",
   "id": "51542b17-3cdf-4c44-931a-028a692a1127",
   "metadata": {},
   "source": [
    "### 1.2.1 Студенты и взаимодействия."
   ]
  },
  {
   "cell_type": "code",
   "execution_count": 9,
   "id": "1e040f22-e8fb-40e9-8627-609c74e1c981",
   "metadata": {},
   "outputs": [
    {
     "name": "stdout",
     "output_type": "stream",
     "text": [
      "Количество уникальных студентов: 393656\n",
      "Количество всех взаимодействий: 101230332\n",
      "Среднее количество взаимодействий на одного студента: 257.15\n",
      "Топ-10 самых активных студентов (ID и количество взаимодействий):\n",
      "801103753     17917\n",
      "1478712595    16914\n",
      "1842816145    16851\n",
      "455973631     16789\n",
      "1660941992    16777\n",
      "1743444187    16654\n",
      "2146130037    16384\n",
      "1047202059    16348\n",
      "1615528747    16146\n",
      "338684437     15963\n",
      "Name: user_id, dtype: int64\n",
      "Медиана количества взаимодействий на одного студента: 41.0\n",
      "Мода количества взаимодействий на одного студента: 30\n"
     ]
    }
   ],
   "source": [
    "# Общее количество студентов и количество их взаимодействий\n",
    "num_users = df_train['user_id'].nunique()\n",
    "num_interactions = len(df_train)\n",
    "print(f\"Количество уникальных студентов: {num_users}\")\n",
    "print(f\"Количество всех взаимодействий: {num_interactions}\")\n",
    "\n",
    "# Среднее количество взаимодействий на одного студента\n",
    "avg_interactions_per_user = num_interactions / num_users\n",
    "print(f\"Среднее количество взаимодействий на одного студента: {avg_interactions_per_user:.2f}\")\n",
    "\n",
    "# Топ-10 самых активных студентов по количеству взаимодействий\n",
    "top_active_students = df_train['user_id'].value_counts().head(10)\n",
    "print(\"Топ-10 самых активных студентов (ID и количество взаимодействий):\")\n",
    "print(top_active_students)\n",
    "\n",
    "# Статистики по количеству взаимодействий: медиана, мода\n",
    "median_interactions = df_train['user_id'].value_counts().median()\n",
    "mode_interactions = df_train['user_id'].value_counts().mode()[0]\n",
    "print(f\"Медиана количества взаимодействий на одного студента: {median_interactions}\")\n",
    "print(f\"Мода количества взаимодействий на одного студента: {mode_interactions}\")"
   ]
  },
  {
   "cell_type": "markdown",
   "id": "25245f92-6d17-4c39-b513-1e6150f582ce",
   "metadata": {},
   "source": [
    "Сравнивая среднее и и медиану, можно построить гипотезу, что есть оооочень активные студенты.\n",
    "Чаще всего кол-во взаимодействий это 30."
   ]
  },
  {
   "cell_type": "markdown",
   "id": "eea49881-285f-4008-bf24-3f3aa31fc62b",
   "metadata": {},
   "source": [
    "### 1.2.2 Лекции и вопросы."
   ]
  },
  {
   "cell_type": "code",
   "execution_count": 10,
   "id": "98fff56f-17d3-4c84-aec0-d90f95236810",
   "metadata": {},
   "outputs": [
    {
     "name": "stdout",
     "output_type": "stream",
     "text": [
      "Количество вопросов: 13523\n",
      "Количество лекций: 418\n",
      "Среднее количество вопросов на лекцию: 32.35\n",
      "Топ-10 лекций, на которых задают больше всего вопросов (ID и количество):\n",
      "10688    126998\n",
      "3852      51908\n",
      "185       47047\n",
      "335       44284\n",
      "5588      32047\n",
      "5694      28447\n",
      "5266      27477\n",
      "10075     26285\n",
      "4100      26271\n",
      "4425      24529\n",
      "Name: content_id, dtype: int64\n",
      "Топ-10 лекций, на которых задают меньше всего вопросов (ID и количество):\n",
      "12811    174\n",
      "12638    172\n",
      "12831    167\n",
      "12655    158\n",
      "2476     144\n",
      "12942    138\n",
      "1308     135\n",
      "13138    106\n",
      "1907      71\n",
      "4652      38\n",
      "Name: content_id, dtype: int64\n",
      "Медиана количества вопросов на лекцию: 4739.0\n",
      "Мода количества вопросов на лекцию: 4600\n"
     ]
    }
   ],
   "source": [
    "# Количество лекций и вопросов\n",
    "total_questions = df_questions.shape[0]\n",
    "total_lectures = df_lectures.shape[0]\n",
    "print(f\"Количество вопросов: {total_questions}\")\n",
    "print(f\"Количество лекций: {total_lectures}\")\n",
    "\n",
    "# Среднее количество вопросов на лекцию\n",
    "avg_questions_per_lecture = total_questions / total_lectures\n",
    "print(f\"Среднее количество вопросов на лекцию: {avg_questions_per_lecture:.2f}\")\n",
    "\n",
    "# Топ-10 лекций, на которых задают больше всего и меньше всего вопросов\n",
    "lecture_question_counts = df_train[df_train['content_type_id'] == 0].merge(df_lectures, left_on='content_id', right_on='lecture_id')['content_id'].value_counts()\n",
    "most_questions_lectures = lecture_question_counts.head(10)\n",
    "fewest_questions_lectures = lecture_question_counts.tail(10)\n",
    "print(\"Топ-10 лекций, на которых задают больше всего вопросов (ID и количество):\")\n",
    "print(most_questions_lectures)\n",
    "print(\"Топ-10 лекций, на которых задают меньше всего вопросов (ID и количество):\")\n",
    "print(fewest_questions_lectures)\n",
    "\n",
    "# Статистики по количеству вопросов на лекцию: медиана, мода\n",
    "median_questions_per_lecture = lecture_question_counts.median()\n",
    "mode_questions_per_lecture = lecture_question_counts.mode()[0]\n",
    "print(f\"Медиана количества вопросов на лекцию: {median_questions_per_lecture}\")\n",
    "print(f\"Мода количества вопросов на лекцию: {mode_questions_per_lecture}\")"
   ]
  },
  {
   "cell_type": "markdown",
   "id": "d7261fac-0a5a-4113-978e-00b8e19c22ce",
   "metadata": {},
   "source": [
    "Отсюда можно построить гипотезу, что есть прямо супер популярная лекция, это id 10688, возможно это базовая лекция для всех студентов, или же какая-нибудь форма на сайте, которую многим необходимо заполнять.\n",
    "\n",
    "Тут среднее и медиана с модой отличаются в противоположную сторону, в сравнении с предыдущим пунктом, это может означать что \"выбросы\" (отклонения) от медианного значения очень большие."
   ]
  },
  {
   "cell_type": "markdown",
   "id": "e8f3cb86-6376-4c38-add7-d927622c7f5e",
   "metadata": {},
   "source": [
    "### 1.2.3 Ответы."
   ]
  },
  {
   "cell_type": "code",
   "execution_count": 11,
   "id": "6a734e66-9f65-44d0-bb89-612b37a9b690",
   "metadata": {},
   "outputs": [
    {
     "name": "stdout",
     "output_type": "stream",
     "text": [
      "Распределение правильных и неправильных ответов студентов:\n",
      " 1    65244627\n",
      " 0    34026673\n",
      "-1     1959032\n",
      "Name: answered_correctly, dtype: int64\n"
     ]
    }
   ],
   "source": [
    "# 3. Распределение правильных ответов\n",
    "answered_correctly_counts = df_train['answered_correctly'].value_counts()\n",
    "print(\"Распределение правильных и неправильных ответов студентов:\")\n",
    "print(answered_correctly_counts)"
   ]
  },
  {
   "cell_type": "markdown",
   "id": "50654f38-cba0-4c0e-8f50-831cb8d1cddf",
   "metadata": {},
   "source": [
    "Студенты почти в 2 раза больше отвечали правильно чем не правильно)) студенты молодцы. Необходимо исследовать среднее значения или группировать, чтобы понять каков тренд для разных групп.\n",
    "\n",
    "-1 - это лекции."
   ]
  },
  {
   "cell_type": "markdown",
   "id": "f17ee4e1-29d9-421e-a9b5-0cf38f6d81f5",
   "metadata": {},
   "source": [
    "### 1.2.4 Время на решение вопросов."
   ]
  },
  {
   "cell_type": "code",
   "execution_count": 12,
   "id": "8056a415-576a-4cdd-a32d-6dc0647c67f4",
   "metadata": {},
   "outputs": [
    {
     "name": "stdout",
     "output_type": "stream",
     "text": [
      "Статистика времени на ответы студентов:\n",
      "count    9.887879e+07\n",
      "mean     2.542381e+04\n",
      "std      1.994815e+04\n",
      "min      0.000000e+00\n",
      "25%      1.600000e+04\n",
      "50%      2.100000e+04\n",
      "75%      2.966600e+04\n",
      "max      3.000000e+05\n",
      "Name: prior_question_elapsed_time, dtype: float64\n"
     ]
    }
   ],
   "source": [
    "# Анализ времени на решение вопросов\n",
    "elapsed_time_stats = df_train['prior_question_elapsed_time'].describe()\n",
    "print(\"Статистика времени на ответы студентов:\")\n",
    "print(elapsed_time_stats)"
   ]
  },
  {
   "cell_type": "markdown",
   "id": "cc397302-f84b-4bc1-89ea-ea0e4463bedf",
   "metadata": {},
   "source": [
    "Необходимо учесть что статистики даны в миллисекундах.\n",
    "\n",
    "Среднее время ответа составляет около 25 секунд, а медианое время 21с, что указывает на относительно симметричное распределение времени, при этом стандартное отклонение в 19.9с показывает что, возможно, вопросы бывают разной сложности, либо разный уровень подготовки студентов. \n",
    "\n",
    "Минимальное значение равное 0с возможно связано с ошибками сбора данных, либо ошибку работы сайта, т.к. физически невозможно за 0.0с ответить на вопрос, даже случайно. Максимальное значение равное 5 минутам (300 000 миллисекунд) показывают что некоторые вопросы вызывают затрудения, либо содержат информацию для прочтения\\расчета. На вопросы с этой части необходимо обратить внимание, чтобы качественно повысить уровень данных и пользовательский опыт. \n",
    "\n",
    "Первый квартиль (25%) и третий квартиль (75%) показывают, что 50% студентов отвечают на вопросы в диапазоне от 16с до 29.6с. Это говорит о том, что большинство студентов тратят около 16-30 секунд на ответ."
   ]
  },
  {
   "cell_type": "markdown",
   "id": "5eaa4f5d-86db-48ec-ad3a-c44f9582e153",
   "metadata": {},
   "source": [
    "### 1.2.5 Вопросы и объяснения."
   ]
  },
  {
   "cell_type": "code",
   "execution_count": 13,
   "id": "ce52da43-4370-49ae-b9f1-155ce6d3a9fd",
   "metadata": {},
   "outputs": [
    {
     "name": "stdout",
     "output_type": "stream",
     "text": [
      "Средняя правильность ответа в зависимости от объяснений:\n",
      "                                answered_correctly\n",
      "prior_question_had_explanation                    \n",
      "False                                     0.237025\n",
      "True                                      0.673189\n"
     ]
    }
   ],
   "source": [
    "# Влияние объяснений на правильность ответа\n",
    "explanation_group = df_train.pivot_table(values='answered_correctly', index='prior_question_had_explanation', aggfunc='mean')\n",
    "print(\"Средняя правильность ответа в зависимости от объяснений:\")\n",
    "print(explanation_group)"
   ]
  },
  {
   "cell_type": "markdown",
   "id": "71845aef-e725-4ddc-8499-07218b48fc40",
   "metadata": {},
   "source": [
    "Здесь мы видим качественную разницу для вопросов, на который был получен правильный ответ в зависимости от объяснения."
   ]
  },
  {
   "cell_type": "markdown",
   "id": "d095b4c0-6aa4-463a-815f-46e4d2bdb87e",
   "metadata": {},
   "source": [
    "### 1.2.6 Популярные лекции и вопросы."
   ]
  },
  {
   "cell_type": "code",
   "execution_count": 14,
   "id": "fa426edc-369b-4d6c-9108-2e20edf8321a",
   "metadata": {},
   "outputs": [
    {
     "name": "stdout",
     "output_type": "stream",
     "text": [
      "Наиболее популярные лекции (ID и количество просмотров):\n",
      "3153     37024\n",
      "21411    27051\n",
      "10540    24312\n",
      "29695    24126\n",
      "15888    22627\n",
      "27845    21250\n",
      "26335    21118\n",
      "32312    20943\n",
      "29544    20941\n",
      "18545    19167\n",
      "Name: content_id, dtype: int64\n"
     ]
    }
   ],
   "source": [
    "# Анализ повторяющихся лекций и вопросов\n",
    "# Какие лекции смотрят чаще всего\n",
    "most_watched_lectures = df_train[df_train['content_type_id'] == 1]['content_id'].value_counts().head(10)\n",
    "print(\"Наиболее популярные лекции (ID и количество просмотров):\")\n",
    "print(most_watched_lectures)"
   ]
  },
  {
   "cell_type": "code",
   "execution_count": 15,
   "id": "1a3651a5-8503-4296-904f-4d4145e684d1",
   "metadata": {
    "tags": []
   },
   "outputs": [
    {
     "name": "stdout",
     "output_type": "stream",
     "text": [
      "Наиболее часто задаваемые вопросы (ID и количество):\n",
      "6116    213605\n",
      "6173    202106\n",
      "4120    199372\n",
      "175     195861\n",
      "7876    190170\n",
      "7900    180858\n",
      "2063    176043\n",
      "2065    176043\n",
      "2064    176043\n",
      "4492    173769\n",
      "Name: content_id, dtype: int64\n"
     ]
    }
   ],
   "source": [
    "# Какие вопросы чаще всего задают\n",
    "most_asked_questions = df_train[df_train['content_type_id'] == 0]['content_id'].value_counts().head(10)\n",
    "print(\"Наиболее часто задаваемые вопросы (ID и количество):\")\n",
    "print(most_asked_questions)"
   ]
  },
  {
   "cell_type": "markdown",
   "id": "abddf5b9-14d1-4641-8496-385fae842ba9",
   "metadata": {},
   "source": [
    "### 1.2.7 Стастистика по студентам"
   ]
  },
  {
   "cell_type": "code",
   "execution_count": 16,
   "id": "ca7fbb27-5477-4006-a81c-95e9bbdaf73a",
   "metadata": {},
   "outputs": [
    {
     "name": "stdout",
     "output_type": "stream",
     "text": [
      "Статистика средней правильности ответов студентов:\n",
      "count    393656.000000\n",
      "mean          0.530048\n",
      "std           0.160218\n",
      "min          -0.142857\n",
      "25%           0.421627\n",
      "50%           0.550000\n",
      "75%           0.647059\n",
      "max           1.000000\n",
      "Name: answered_correctly, dtype: float64\n"
     ]
    }
   ],
   "source": [
    "# Анализ студентов, кто дал больше правильных ответов\n",
    "student_correctness = df_train.groupby('user_id')['answered_correctly'].mean().describe()\n",
    "print(\"Статистика средней правильности ответов студентов:\")\n",
    "print(student_correctness)"
   ]
  },
  {
   "cell_type": "markdown",
   "id": "3b3fdc43-5d1d-404a-979a-cfde3d18e2ee",
   "metadata": {},
   "source": [
    "Средняя правильность ответов составляет около 53%, медиана составляет 55%, что немного выше среднего значения, что указывает на небольшую асимметрию в распределении — больше студентов имеют успеваемость выше среднего, а значения близкие к 50% что указывает на то, что в целом студенты правильно отвечают на чуть больше половины вопросов. Это может означать умеренный уровень сложности тестов или нехватку знаний у некоторых студентов.\n",
    "\n",
    "Минимальная правильность равна -0.142857, что явно некорректное значение, вероятно, обусловленное ошибками в данных или неправильной обработкой. Значение правильности не может быть отрицательным, и это может указывать на необходимость очистки данных.\n",
    "\n",
    "Максимальная правильность равна 100%, что означает, что есть студенты, которые правильно ответили на все вопросы. Это может указывать на наличие (задротов) очень хорошо подготовленных студентов.\n",
    "\n",
    "Первый квартиль (25%) составляет 42%, а третий квартиль (75%) — 64.7%, что говорит о том, что половина студентов имеют правильность ответов в диапазоне от 42% до 65%. Это диапазон средней успеваемости."
   ]
  },
  {
   "cell_type": "markdown",
   "id": "4a2fc2e7-c729-4e98-a3c7-b52a9194f7f5",
   "metadata": {},
   "source": [
    "### 1.2.8 Наборы вопросов."
   ]
  },
  {
   "cell_type": "code",
   "execution_count": 17,
   "id": "69f2214e-8b7d-4d74-8beb-eea908d94bfd",
   "metadata": {},
   "outputs": [
    {
     "name": "stdout",
     "output_type": "stream",
     "text": [
      "Наиболее часто используемые task_container_id (и количество взаимодействий):\n",
      "14    804285\n",
      "15    798539\n",
      "4     692079\n",
      "5     690051\n",
      "6     688813\n",
      "7     684275\n",
      "11    403521\n",
      "10    400660\n",
      "8     400019\n",
      "9     399641\n",
      "Name: task_container_id, dtype: int64\n"
     ]
    }
   ],
   "source": [
    "# Анализ распределения взаимодействий по task_container_id\n",
    "task_container_distribution = df_train['task_container_id'].value_counts().head(10)\n",
    "print(\"Наиболее часто используемые task_container_id (и количество взаимодействий):\")\n",
    "print(task_container_distribution)"
   ]
  },
  {
   "cell_type": "markdown",
   "id": "12d60e1a-1276-4bf8-881d-87c246ef8a1d",
   "metadata": {},
   "source": [
    "Видим что первые 6 task_container_id (набор вопросов) намного популярнее остальных, возможно это так же базовые какие-либо вопросы."
   ]
  },
  {
   "cell_type": "markdown",
   "id": "89a89a5d-7e83-42ae-ad45-2eb6c65db041",
   "metadata": {},
   "source": [
    "### 1.2.9 Посещаемость и успеваемость."
   ]
  },
  {
   "cell_type": "code",
   "execution_count": 18,
   "id": "910e63e8-fec4-49b9-b55f-4331ef349c60",
   "metadata": {},
   "outputs": [
    {
     "name": "stdout",
     "output_type": "stream",
     "text": [
      "Корреляция между количеством лекций и успеваемостью студентов:\n",
      "                     user_id  answered_correctly  num_lectures\n",
      "user_id             1.000000           -0.001259     -0.000145\n",
      "answered_correctly -0.001259            1.000000      0.197191\n",
      "num_lectures       -0.000145            0.197191      1.000000\n"
     ]
    }
   ],
   "source": [
    "# Влияние количества лекций на успеваемость студентов\n",
    "lecture_counts = df_train[df_train['content_type_id'] == 1].groupby('user_id').size()\n",
    "correctness_vs_lectures = df_train[df_train['content_type_id'] == 0].groupby('user_id')['answered_correctly'].mean().reset_index()\n",
    "correctness_vs_lectures = correctness_vs_lectures.merge(lecture_counts.rename('num_lectures'), on='user_id', how='left').fillna(0)\n",
    "print(\"Корреляция между количеством лекций и успеваемостью студентов:\")\n",
    "print(correctness_vs_lectures.corr())"
   ]
  },
  {
   "cell_type": "markdown",
   "id": "b0ebbec5-8d77-4550-ad5c-ac13d4457975",
   "metadata": {},
   "source": [
    "Корреляция между количеством лекций и успеваемостью студентов составляет около 0.197, что является положительной, но слабой корреляцией. Это может означать, что студенты, которые посещают больше лекций, имеют некоторую тенденцию к лучшей успеваемости, однако этот эффект не очень значителен. Это может быть связано с тем, что просто количество посещенных лекций недостаточно для значительного улучшения успеваемости — важны также качество и понимание материала. Если мы говорим про линейную прямую связь, возможно связь сложнее и простой линейной корреляции тут не достаточно.\n",
    "\n",
    "Для этого необходимо дополнительное исследование."
   ]
  },
  {
   "cell_type": "code",
   "execution_count": 22,
   "id": "07ddfbfc-d05b-40ab-8080-670f7be7b3a9",
   "metadata": {
    "tags": []
   },
   "outputs": [
    {
     "name": "stdout",
     "output_type": "stream",
     "text": [
      "Средняя правильность ответов в зависимости от количества посещенных лекций:\n",
      "lecture_group\n",
      "Мало лекций           0.525751\n",
      "Среднее количество    0.635502\n",
      "Много лекций          0.648186\n",
      "Очень много лекций    0.662682\n",
      "Name: answered_correctly, dtype: float64\n"
     ]
    }
   ],
   "source": [
    "# Разделение студентов на группы по количеству посещенных лекций и сравнение средней правильности ответов\n",
    "lecture_bins = [-1, 5, 15, 50, np.inf]\n",
    "lecture_labels = ['Мало лекций', 'Среднее количество', 'Много лекций', 'Очень много лекций']\n",
    "correctness_vs_lectures['lecture_group'] = pd.cut(correctness_vs_lectures['num_lectures'], bins=lecture_bins, labels=lecture_labels)\n",
    "grouped_correctness = correctness_vs_lectures.groupby('lecture_group')['answered_correctly'].mean()\n",
    "print(\"Средняя правильность ответов в зависимости от количества посещенных лекций:\")\n",
    "print(grouped_correctness)"
   ]
  },
  {
   "cell_type": "markdown",
   "id": "32167a5f-889f-47e8-99e5-d1404d36cb70",
   "metadata": {},
   "source": [
    "1. Студенты, посещающие больше лекций, показывают лучшую успеваемость. Средняя правильность ответов студентов с минимальным количеством лекций составляет около 52.6%, в то время как у студентов, посещающих очень много лекций, этот показатель достигает 66.3%.\n",
    "2. Можно сделать вывод, что большее количество лекций положительно влияет на понимание материала и успеваемость студентов."
   ]
  },
  {
   "cell_type": "code",
   "execution_count": 23,
   "id": "32385b29-c628-4eaf-b019-d9a9b7f03529",
   "metadata": {
    "tags": []
   },
   "outputs": [
    {
     "name": "stdout",
     "output_type": "stream",
     "text": [
      "Распределение количества лекций среди студентов с разным уровнем успеваемости:\n",
      "                         count      mean        std  min  25%  50%  75%    max\n",
      "correctness_group                                                             \n",
      "Низкая успеваемость    40113.0  0.246977   4.139014  0.0  0.0  0.0  0.0  250.0\n",
      "Средняя успеваемость  286238.0  4.658438  15.163006  0.0  0.0  0.0  2.0  386.0\n",
      "Высокая успеваемость   67305.0  9.147953  21.715244  0.0  0.0  1.0  7.0  397.0\n"
     ]
    }
   ],
   "source": [
    "# Распределение количества лекций среди студентов с разным уровнем успеваемости\n",
    "correctness_bins = [-1, 0.3, 0.7, 1]\n",
    "correctness_labels = ['Низкая успеваемость', 'Средняя успеваемость', 'Высокая успеваемость']\n",
    "correctness_vs_lectures['correctness_group'] = pd.cut(correctness_vs_lectures['answered_correctly'], bins=correctness_bins, labels=correctness_labels)\n",
    "lecture_distribution = correctness_vs_lectures.groupby('correctness_group')['num_lectures'].describe()\n",
    "print(\"Распределение количества лекций среди студентов с разным уровнем успеваемости:\")\n",
    "print(lecture_distribution)"
   ]
  },
  {
   "cell_type": "markdown",
   "id": "fbff5d08-bcf9-466b-8f5e-fcfd7494ccbf",
   "metadata": {},
   "source": [
    "1. Студенты с низкой успеваемостью в среднем посещают значительно меньше лекций (среднее количество лекций около 0.25).\n",
    "2. Студенты с высокой успеваемостью посещают больше лекций (в среднем около 9), что подтверждает положительное влияние посещения лекций на успеваемость."
   ]
  },
  {
   "cell_type": "code",
   "execution_count": 24,
   "id": "e70dee04-1489-40ae-b707-478ed1d46eba",
   "metadata": {
    "tags": []
   },
   "outputs": [
    {
     "name": "stdout",
     "output_type": "stream",
     "text": [
      "Лекции, которые оказывают наибольшее влияние на успеваемость (топ-10):\n",
      "lecture_id\n",
      "6220     0.771250\n",
      "32604    0.731384\n",
      "8240     0.720630\n",
      "18903    0.720299\n",
      "30194    0.713750\n",
      "12509    0.699107\n",
      "27402    0.698856\n",
      "25004    0.697984\n",
      "8461     0.695722\n",
      "9831     0.694240\n",
      "Name: answered_correctly_y, dtype: float64\n"
     ]
    }
   ],
   "source": [
    "# Выявление лекций, которые оказывают наибольшее влияние на успеваемость\n",
    "lecture_effectiveness = df_train[df_train['content_type_id'] == 1].merge(df_lectures, left_on='content_id', right_on='lecture_id')\n",
    "lecture_effectiveness = lecture_effectiveness.merge(correctness_vs_lectures[['user_id', 'answered_correctly']], on='user_id', how='left')\n",
    "lecture_effectiveness_group = lecture_effectiveness.groupby('lecture_id')['answered_correctly_y'].mean().sort_values(ascending=False).head(10)\n",
    "print(\"Лекции, которые оказывают наибольшее влияние на успеваемость (топ-10):\")\n",
    "print(lecture_effectiveness_group)"
   ]
  },
  {
   "cell_type": "markdown",
   "id": "bbf92758-dc98-4633-ae99-324f408265e8",
   "metadata": {},
   "source": [
    "1. Лекции с ID из списка демонстрируют наибольшее влияние на успеваемость студентов, с показателем правильности ответов выше 70%.\n",
    "2. Эти лекции могут быть особенно эффективными и стоит изучить их содержание для определения ключевых факторов успеха."
   ]
  },
  {
   "cell_type": "markdown",
   "id": "0138b6c0-12af-4ec4-b44d-7fcbdc6eea37",
   "metadata": {},
   "source": [
    "### 1.2.10 Последний раздел теста TOEIC."
   ]
  },
  {
   "cell_type": "code",
   "execution_count": 17,
   "id": "fe0fa1cf-52d3-4077-89d8-e5aa37da25f7",
   "metadata": {},
   "outputs": [
    {
     "name": "stdout",
     "output_type": "stream",
     "text": [
      "Распределение вопросов по частям:\n",
      "5    5511\n",
      "2    1647\n",
      "3    1562\n",
      "4    1439\n",
      "6    1212\n",
      "7    1160\n",
      "1     992\n",
      "Name: part, dtype: int64\n",
      "Распределение лекций по частям:\n",
      "5    143\n",
      "6     83\n",
      "2     56\n",
      "1     54\n",
      "7     32\n",
      "4     31\n",
      "3     19\n",
      "Name: part, dtype: int64\n"
     ]
    }
   ],
   "source": [
    "# Анализ характеристик вопросов и лекций по признаку 'part'\n",
    "questions_part_distribution = df_questions['part'].value_counts()\n",
    "lectures_part_distribution = df_lectures['part'].value_counts()\n",
    "print(\"Распределение вопросов по частям:\")\n",
    "print(questions_part_distribution)\n",
    "print(\"Распределение лекций по частям:\")\n",
    "print(lectures_part_distribution)"
   ]
  },
  {
   "cell_type": "markdown",
   "id": "5c177841-649d-4aa7-98ed-1f037eeaef07",
   "metadata": {},
   "source": [
    "Неясно какие отсюда можно сделать выводы, кроме тогоч то в в части 5 больше вопросов и больше лекций."
   ]
  },
  {
   "cell_type": "code",
   "execution_count": 26,
   "id": "29c2ff10-c220-4054-904c-abd29d65e07c",
   "metadata": {
    "tags": []
   },
   "outputs": [
    {
     "name": "stdout",
     "output_type": "stream",
     "text": [
      "Связь между частями вопросов и лекций:\n",
      "5    788073\n",
      "6    100596\n",
      "2     92232\n",
      "1     53568\n",
      "4     44609\n",
      "7     37120\n",
      "3     29678\n",
      "Name: part, dtype: int64\n"
     ]
    }
   ],
   "source": [
    "# Анализ связи между частями лекций и вопросов\n",
    "questions_lectures_merged = df_questions.merge(df_lectures, on='part', how='inner', suffixes=('_question', '_lecture'))\n",
    "part_relationship = questions_lectures_merged['part'].value_counts()\n",
    "print(\"Связь между частями вопросов и лекций:\")\n",
    "print(part_relationship)"
   ]
  },
  {
   "cell_type": "markdown",
   "id": "a5da00a4-390d-45dc-878c-628bd3657b5a",
   "metadata": {},
   "source": [
    "1. Часть 5 содержит наибольшее количество вопросов и лекций, что может указывать на особое внимание к этой части в учебном процессе.\n",
    "2. Часть 6 и 2 также имеет большое количество вопросов и лекций, что может свидетельствовать о её важности в курсе.\n",
    "3. Остальные части имеют свзь одинакового порядка."
   ]
  },
  {
   "cell_type": "markdown",
   "id": "f77e4327-3144-4cf1-8995-8e4d3bdaaf84",
   "metadata": {},
   "source": [
    "### 1.2.11 Сложность тем."
   ]
  },
  {
   "cell_type": "code",
   "execution_count": 28,
   "id": "dd0213ab-9913-40f9-b6ec-64f5bfc1d4eb",
   "metadata": {},
   "outputs": [
    {
     "name": "stdout",
     "output_type": "stream",
     "text": [
      "Средняя правильность ответов по тегам вопросов:\n",
      "tags\n",
      "1                       0.607333\n",
      "1 162                   0.622810\n",
      "10 111 92               0.837507\n",
      "10 164 102              0.761476\n",
      "10 164 162 29           0.879346\n",
      "                          ...   \n",
      "98 97 35 117 122 162    0.718192\n",
      "98 97 35 146 122        0.716996\n",
      "98 97 46 135            0.684939\n",
      "98 97 77 135 162        0.888320\n",
      "unknown                 1.000000\n",
      "Name: answered_correctly, Length: 1520, dtype: float64\n"
     ]
    }
   ],
   "source": [
    "# Использование информации о тегах лекций и вопросов для анализа, какие темы сложнее всего\n",
    "tags_difficulty = df_train[df_train['content_type_id'] == 0].merge(df_questions, left_on='content_id', right_on='question_id')\n",
    "print(\"Средняя правильность ответов по тегам вопросов:\")\n",
    "print(tags_difficulty.groupby('tags')['answered_correctly'].mean())"
   ]
  },
  {
   "cell_type": "markdown",
   "id": "9c5f0f00-e36a-4063-abef-3ae09e492408",
   "metadata": {},
   "source": [
    "Здесь анализ затруднен, т.к. tags скорее всего необходимо обработать через get_dummies или ohe, но это не входит в рамки данного проекта."
   ]
  },
  {
   "cell_type": "markdown",
   "id": "90183875-882f-4566-a8c1-9e35973c3258",
   "metadata": {},
   "source": [
    "### 1.2.12 Сложность вопросов."
   ]
  },
  {
   "cell_type": "code",
   "execution_count": 29,
   "id": "3ea7ce7b-6802-45a7-9a8d-057aa5a82285",
   "metadata": {},
   "outputs": [
    {
     "name": "stdout",
     "output_type": "stream",
     "text": [
      "Средняя правильность ответов по bundle_id:\n",
      "bundle_id\n",
      "0        0.907721\n",
      "1        0.890646\n",
      "2        0.554281\n",
      "3        0.779437\n",
      "4        0.613215\n",
      "           ...   \n",
      "13518    0.786866\n",
      "13519    0.571429\n",
      "13520    0.672474\n",
      "13521    0.808046\n",
      "13522    0.913953\n",
      "Name: answered_correctly, Length: 9765, dtype: float64\n",
      "Топ-10 лучших пакетов вопросов по средней правильности ответов:\n",
      "bundle_id\n",
      "12923    1.000000\n",
      "12806    1.000000\n",
      "10033    1.000000\n",
      "4741     1.000000\n",
      "12615    1.000000\n",
      "5823     1.000000\n",
      "12809    1.000000\n",
      "3572     1.000000\n",
      "12745    0.994595\n",
      "12803    0.994413\n",
      "Name: answered_correctly, dtype: float64\n",
      "Топ-10 худших пакетов вопросов по средней правильности ответов:\n",
      "bundle_id\n",
      "1484     0.000000\n",
      "9220     0.144753\n",
      "11231    0.172831\n",
      "8981     0.182177\n",
      "9547     0.183336\n",
      "8697     0.183818\n",
      "8986     0.197763\n",
      "3878     0.199648\n",
      "13439    0.200647\n",
      "8351     0.203025\n",
      "Name: answered_correctly, dtype: float64\n",
      "Корреляция между средней правильностью ответов по пакетам и другими признаками:\n"
     ]
    },
    {
     "name": "stderr",
     "output_type": "stream",
     "text": [
      "C:\\Users\\User\\AppData\\Local\\Temp\\ipykernel_18876\\3745067142.py:17: FutureWarning: The default value of numeric_only in DataFrame.corr is deprecated. In a future version, it will default to False. Select only valid columns or specify the value of numeric_only to silence this warning.\n",
      "  print(bundle_analysis.corr())\n"
     ]
    },
    {
     "name": "stdout",
     "output_type": "stream",
     "text": [
      "                               row_id  timestamp   user_id  content_id  \\\n",
      "row_id                       1.000000  -0.000006  0.999990    0.001104   \n",
      "timestamp                   -0.000006   1.000000 -0.000037    0.062655   \n",
      "user_id                      0.999990  -0.000037  1.000000    0.001106   \n",
      "content_id                   0.001104   0.062655  0.001106    1.000000   \n",
      "content_type_id                   NaN        NaN       NaN         NaN   \n",
      "task_container_id            0.001448   0.434853  0.001454    0.064442   \n",
      "user_answer                  0.000121   0.001048  0.000120    0.011568   \n",
      "answered_correctly          -0.000414   0.029045 -0.000418   -0.020850   \n",
      "prior_question_elapsed_time  0.000294   0.013934  0.000308    0.151661   \n",
      "question_id                  0.001104   0.062655  0.001106    1.000000   \n",
      "bundle_id                    0.001104   0.062654  0.001106    1.000000   \n",
      "correct_answer               0.000230  -0.001087  0.000230    0.017385   \n",
      "part                         0.001891   0.016351  0.001891    0.543489   \n",
      "bundle_mean_correctness     -0.000544   0.068191 -0.000540   -0.064553   \n",
      "\n",
      "                             content_type_id  task_container_id  user_answer  \\\n",
      "row_id                                   NaN           0.001448     0.000121   \n",
      "timestamp                                NaN           0.434853     0.001048   \n",
      "user_id                                  NaN           0.001454     0.000120   \n",
      "content_id                               NaN           0.064442     0.011568   \n",
      "content_type_id                          NaN                NaN          NaN   \n",
      "task_container_id                        NaN           1.000000     0.003176   \n",
      "user_answer                              NaN           0.003176     1.000000   \n",
      "answered_correctly                       NaN           0.058701     0.004881   \n",
      "prior_question_elapsed_time              NaN          -0.013412     0.014570   \n",
      "question_id                              NaN           0.064442     0.011568   \n",
      "bundle_id                                NaN           0.064436     0.011565   \n",
      "correct_answer                           NaN           0.000058     0.533106   \n",
      "part                                     NaN           0.026376     0.030622   \n",
      "bundle_mean_correctness                  NaN           0.084613    -0.010300   \n",
      "\n",
      "                             answered_correctly  prior_question_elapsed_time  \\\n",
      "row_id                                -0.000414                     0.000294   \n",
      "timestamp                              0.029045                     0.013934   \n",
      "user_id                               -0.000418                     0.000308   \n",
      "content_id                            -0.020850                     0.151661   \n",
      "content_type_id                             NaN                          NaN   \n",
      "task_container_id                      0.058701                    -0.013412   \n",
      "user_answer                            0.004881                     0.014570   \n",
      "answered_correctly                     1.000000                    -0.007900   \n",
      "prior_question_elapsed_time           -0.007900                     1.000000   \n",
      "question_id                           -0.020850                     0.151661   \n",
      "bundle_id                             -0.020851                     0.151623   \n",
      "correct_answer                        -0.016896                     0.013033   \n",
      "part                                  -0.075053                     0.240963   \n",
      "bundle_mean_correctness                0.322962                    -0.015446   \n",
      "\n",
      "                             question_id  bundle_id  correct_answer      part  \\\n",
      "row_id                          0.001104   0.001104        0.000230  0.001891   \n",
      "timestamp                       0.062655   0.062654       -0.001087  0.016351   \n",
      "user_id                         0.001106   0.001106        0.000230  0.001891   \n",
      "content_id                      1.000000   1.000000        0.017385  0.543489   \n",
      "content_type_id                      NaN        NaN             NaN       NaN   \n",
      "task_container_id               0.064442   0.064436        0.000058  0.026376   \n",
      "user_answer                     0.011568   0.011565        0.533106  0.030622   \n",
      "answered_correctly             -0.020850  -0.020851       -0.016896 -0.075053   \n",
      "prior_question_elapsed_time     0.151661   0.151623        0.013033  0.240963   \n",
      "question_id                     1.000000   1.000000        0.017385  0.543489   \n",
      "bundle_id                       1.000000   1.000000        0.017386  0.543424   \n",
      "correct_answer                  0.017385   0.017386        1.000000  0.046590   \n",
      "part                            0.543489   0.543424        0.046590  1.000000   \n",
      "bundle_mean_correctness        -0.064553  -0.064563       -0.050912 -0.232391   \n",
      "\n",
      "                             bundle_mean_correctness  \n",
      "row_id                                     -0.000544  \n",
      "timestamp                                   0.068191  \n",
      "user_id                                    -0.000540  \n",
      "content_id                                 -0.064553  \n",
      "content_type_id                                  NaN  \n",
      "task_container_id                           0.084613  \n",
      "user_answer                                -0.010300  \n",
      "answered_correctly                          0.322962  \n",
      "prior_question_elapsed_time                -0.015446  \n",
      "question_id                                -0.064553  \n",
      "bundle_id                                  -0.064563  \n",
      "correct_answer                             -0.050912  \n",
      "part                                       -0.232391  \n",
      "bundle_mean_correctness                     1.000000  \n"
     ]
    }
   ],
   "source": [
    "# Анализ успешности ответов по 'bundle_id' для оценки сложности конкретных пакетов вопросов\n",
    "bundle_difficulty = tags_difficulty.groupby('bundle_id')['answered_correctly'].mean()\n",
    "print(\"Средняя правильность ответов по bundle_id:\")\n",
    "print(bundle_difficulty)\n",
    "\n",
    "# Топ-10 лучших и худших пакетов вопросов по средней правильности ответов\n",
    "top_bundles = bundle_difficulty.sort_values(ascending=False).head(10)\n",
    "bottom_bundles = bundle_difficulty.sort_values(ascending=True).head(10)\n",
    "print(\"Топ-10 лучших пакетов вопросов по средней правильности ответов:\")\n",
    "print(top_bundles)\n",
    "print(\"Топ-10 худших пакетов вопросов по средней правильности ответов:\")\n",
    "print(bottom_bundles)\n",
    "\n",
    "# Связь успешности пакетов вопросов с другими параметрами\n",
    "bundle_analysis = tags_difficulty.merge(bundle_difficulty.rename('bundle_mean_correctness'), on='bundle_id')\n",
    "print(\"Корреляция между средней правильностью ответов по пакетам и другими признаками:\")\n",
    "print(bundle_analysis.corr())"
   ]
  },
  {
   "cell_type": "markdown",
   "id": "3b43fd9c-6ed1-40d2-a025-63e454a8da78",
   "metadata": {},
   "source": [
    "Топ-10 лучших пакетов вопросов по средней правильности ответов имеют очень высокую правильность, вплоть до 100%. Это может говорить о том, что эти пакеты содержат относительно простые вопросы или что материал, покрываемый этими пакетами, был хорошо усвоен.\n",
    "\n",
    "Топ-10 худших пакетов имеют низкую среднюю правильность (до 20%), что может свидетельствовать о сложности тем, представленных в этих пакетах, или недостаточной подготовке студентов.\n",
    "\n",
    "Наиболее сильная положительная корреляция наблюдается между bundle_mean_correctness и answered_correctly (коэффициент корреляции 0.323), что указывает на прямую связь между сложностью пакета и успешностью ответов студентов.\n",
    "\n",
    "С другой стороны, отрицательная корреляция между bundle_mean_correctness и part (-0.232) может говорить о том, что определенные части учебного курса сложнее других, что сказывается на успешности выполнения вопросов."
   ]
  },
  {
   "cell_type": "markdown",
   "id": "e76623af-512f-4f2d-a18d-a9288584e4af",
   "metadata": {},
   "source": [
    "### Выводы по 1.2."
   ]
  },
  {
   "cell_type": "markdown",
   "id": "8f0259da-e8d0-4b06-8c00-c00fd53748bd",
   "metadata": {},
   "source": [
    "Анализ данных по взаимодействиям студентов с образовательной платформой показал, что существует целый ряд факторов, которые влияют на успеваемость студентов. Студенты, которые чаще посещают лекции, демонстрируют более высокие результаты на тестах, что подтверждает значимость и ценность лекционного материала. Несмотря на это, корреляция между количеством лекций и успеваемостью оказалась умеренной, что указывает на наличие других важных факторов, влияющих на успеваемость, таких как качество обучения и личная мотивация студентов.\n",
    "\n",
    "Сравнительный анализ лекций и вопросов выявил, что некоторые лекции и вопросы значительно более популярны, что может быть связано с их обязательностью для всех студентов или важностью тем, которые они покрывают. Были также обнаружены аномалии в данных, такие как минимальное время ответа, равное нулю, и отрицательные значения правильности, что требует дальнейшей очистки данных для повышения точности и достоверности анализа.\n",
    "\n",
    "При анализе сложности пакетов вопросов было установлено, что существуют как простые, так и сложные наборы вопросов. Топ-10 пакетов с наивысшей правильностью ответов показывают, что эти вопросы либо были хорошо усвоены студентами, либо являлись менее сложными. С другой стороны, худшие пакеты указывают на необходимость дополнительного внимания к сложным темам или на пробелы в подготовке студентов.\n",
    "\n",
    "Важной частью анализа также стало выявление связей между сложностью тем и правильностью ответов. Определенные части курса оказались сложнее других, что отразилось на успеваемости студентов. Эти выводы позволяют выдвинуть гипотезу о необходимости адаптации учебных материалов и внедрения более персонализированного подхода к обучению.\n",
    "\n",
    "Эти результаты помогут лучше понять потребности студентов и улучшить образовательный процесс, адаптируя сложность вопросов и лекций в соответствии с их подготовкой и текущим уровнем знаний."
   ]
  },
  {
   "cell_type": "markdown",
   "id": "c45b03d9-81e5-481f-ad80-3653aa5e66cb",
   "metadata": {},
   "source": [
    "# Общий вывод."
   ]
  },
  {
   "cell_type": "markdown",
   "id": "c74f69a6-68c9-4f21-9371-2598d5e37307",
   "metadata": {},
   "source": [
    "Данный анализ является минимально достаточным для понимания общих тенденций и трендов в данном датасете.\n",
    "\n",
    "Проект был реализован используя только библиотеку pandas (по условию), различные библиотеки по построению графика не были использованы, хотя это могло упростить работы, но при этом, датасеты довольно большие (больше 7.5+ GB), что затрудняло обработку данных графиками."
   ]
  },
  {
   "cell_type": "code",
   "execution_count": null,
   "id": "61b84ecf-60c6-4b75-a593-2223e9c89eb5",
   "metadata": {},
   "outputs": [],
   "source": []
  }
 ],
 "metadata": {
  "kernelspec": {
   "display_name": "Python 3 (ipykernel)",
   "language": "python",
   "name": "python3"
  },
  "language_info": {
   "codemirror_mode": {
    "name": "ipython",
    "version": 3
   },
   "file_extension": ".py",
   "mimetype": "text/x-python",
   "name": "python",
   "nbconvert_exporter": "python",
   "pygments_lexer": "ipython3",
   "version": "3.11.4"
  }
 },
 "nbformat": 4,
 "nbformat_minor": 5
}
